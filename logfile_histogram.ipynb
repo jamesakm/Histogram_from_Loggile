{
 "cells": [
  {
   "cell_type": "code",
   "execution_count": 43,
   "metadata": {
    "collapsed": true
   },
   "outputs": [],
   "source": [
    "import matplotlib.pyplot as plt\n",
    "import re\n",
    "import math\n"
   ]
  },
  {
   "cell_type": "code",
   "execution_count": 44,
   "metadata": {
    "collapsed": true
   },
   "outputs": [],
   "source": [
    "LogFile = \"/home/hp/out.log\""
   ]
  },
  {
   "cell_type": "code",
   "execution_count": 47,
   "metadata": {},
   "outputs": [],
   "source": [
    "def parser(line):\n",
    "  DATE = r'(?P<date>\\d{4}\\-\\d{2}\\-\\d{2})'\n",
    "  SPACE = r'\\s'\n",
    "  TIME = r'(?P<time>\\d{2}\\:\\d{2}\\:\\d{2}\\.\\d+)'\n",
    "  PID = r'\\[PID\\s(?P<pid>\\d+)]'\n",
    "  RESPONSE = r'\\[(?P<response>\\d+)ms\\]'\n",
    "  UID = r'\\[UID\\s(?P<uid>.+?)\\]'\n",
    "  LEVEL = r'\\[(?P<level>[A-Za-z]+)\\]'\n",
    "  URL = r'(?P<url>/.+?)'\n",
    "  MESSAGE = r'(?P<message>.+)'\n",
    "  \n",
    "  PATTERN = DATE+SPACE+TIME+SPACE+PID+SPACE+RESPONSE+SPACE+UID+SPACE+LEVEL+SPACE+URL+SPACE+MESSAGE\n",
    "  \n",
    "  result = re.search(PATTERN,line)\n",
    "  if result:\n",
    "    return result.groupdict()\n",
    " \n",
    "   \n"
   ]
  },
  {
   "cell_type": "code",
   "execution_count": 48,
   "metadata": {
    "collapsed": true
   },
   "outputs": [],
   "source": [
    "\n",
    "time_list = []\n",
    "\n",
    "with open(LogFile) as fh:\n",
    "  for logLine in fh:\n",
    "    result = parser(logLine)\n",
    "    if result:\n",
    "      if result['level'] == 'ERROR':\n",
    "        time_list.append(int(result['time'][:2]))  # 15:50:45.846066 [:3] 15\n",
    "        "
   ]
  },
  {
   "cell_type": "code",
   "execution_count": 49,
   "metadata": {},
   "outputs": [
    {
     "data": {
      "image/png": "[encoded data removed]",
      "text/plain": [
       "<Figure size 432x288 with 1 Axes>"
      ]
     },
     "metadata": {},
     "output_type": "display_data"
    }
   ],
   "source": [
    "hours = [x for x in range(24) ]\n",
    "plt.hist(time_list,hours,histtype='bar',rwidth=0.80,align='left')\n",
    "plt.xlabel('HOURS')\n",
    "plt.ylabel('COUNT')\n",
    "plt.xticks(hours)\n",
    "plt.show()"
   ]
  },
  {
   "cell_type": "code",
   "execution_count": 50,
   "metadata": {
    "collapsed": true
   },
   "outputs": [],
   "source": [
    "response_list = []\n",
    "\n",
    "with open(LogFile) as fh:\n",
    "  for logLine in fh:\n",
    "    result = parser(logLine)\n",
    "    if result:\n",
    "      if result['level'] != 'ERROR':\n",
    "        response_list.append(int(result['response']))\n",
    "response_list.sort()        "
   ]
  },
  {
   "cell_type": "code",
   "execution_count": 51,
   "metadata": {
    "collapsed": true
   },
   "outputs": [],
   "source": [
    "def get_percentile(per,lst):\n",
    "  lst_len = len(lst)\n",
    "  index = (per/100) * lst_len\n",
    "  if index.is_integer():\n",
    "    index = int(index) - 1 \n",
    "    position1 = lst[index]\n",
    "    position2 = lst[index+1]\n",
    "    percentile = ( position1 + position2 ) / 2\n",
    "    return percentile\n",
    "  \n",
    "  else:\n",
    "    index_round = math.ceil(index)\n",
    "    index = int(index_round) -1\n",
    "    percentile = lst[index]\n",
    "    return percentile"
   ]
  },
  {
   "cell_type": "code",
   "execution_count": 40,
   "metadata": {},
   "outputs": [
    {
     "data": {
      "text/plain": [
       "258"
      ]
     },
     "execution_count": 40,
     "metadata": {},
     "output_type": "execute_result"
    }
   ],
   "source": [
    "get_percentile(50,response_list)"
   ]
  },
  {
   "cell_type": "code",
   "execution_count": 10,
   "metadata": {},
   "outputs": [
    {
     "data": {
      "text/plain": [
       "443"
      ]
     },
     "execution_count": 10,
     "metadata": {},
     "output_type": "execute_result"
    }
   ],
   "source": [
    "get_percentile(90,response_list)\n"
   ]
  },
  {
   "cell_type": "code",
   "execution_count": 11,
   "metadata": {},
   "outputs": [
    {
     "data": {
      "text/plain": [
       "472"
      ]
     },
     "execution_count": 11,
     "metadata": {},
     "output_type": "execute_result"
    }
   ],
   "source": [
    "get_percentile(95,response_list)"
   ]
  },
  {
   "cell_type": "code",
   "execution_count": null,
   "metadata": {
    "collapsed": true
   },
   "outputs": [],
   "source": []
  }
 ],
 "metadata": {
  "kernelspec": {
   "display_name": "Python 3",
   "language": "python",
   "name": "python3"
  },
  "language_info": {
   "codemirror_mode": {
    "name": "ipython",
    "version": 3
   },
   "file_extension": ".py",
   "mimetype": "text/x-python",
   "name": "python",
   "nbconvert_exporter": "python",
   "pygments_lexer": "ipython3",
   "version": "3.5.2"
  }
 },
 "nbformat": 4,
 "nbformat_minor": 2
}
